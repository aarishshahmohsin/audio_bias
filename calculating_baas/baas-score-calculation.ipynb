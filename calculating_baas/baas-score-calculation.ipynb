{
 "cells": [
  {
   "cell_type": "code",
   "execution_count": null,
   "id": "e9f4a174",
   "metadata": {},
   "outputs": [],
   "source": [
    "import pandas as pd"
   ]
  },
  {
   "cell_type": "code",
   "execution_count": 5,
   "id": "c6d30ae4",
   "metadata": {
    "execution": {
     "iopub.execute_input": "2025-01-07T15:24:42.193960Z",
     "iopub.status.busy": "2025-01-07T15:24:42.193628Z",
     "iopub.status.idle": "2025-01-07T15:24:42.219121Z",
     "shell.execute_reply": "2025-01-07T15:24:42.218290Z"
    },
    "papermill": {
     "duration": 0.031298,
     "end_time": "2025-01-07T15:24:42.220401",
     "exception": false,
     "start_time": "2025-01-07T15:24:42.189103",
     "status": "completed"
    },
    "tags": []
   },
   "outputs": [],
   "source": [
    "terms_df = pd.read_csv(\"./role_df.csv\")"
   ]
  },
  {
   "cell_type": "code",
   "execution_count": null,
   "id": "d16dbda5",
   "metadata": {
    "execution": {
     "iopub.execute_input": "2025-01-07T15:24:43.326154Z",
     "iopub.status.busy": "2025-01-07T15:24:43.325947Z",
     "iopub.status.idle": "2025-01-07T15:24:43.331155Z",
     "shell.execute_reply": "2025-01-07T15:24:43.330398Z"
    },
    "papermill": {
     "duration": 0.011076,
     "end_time": "2025-01-07T15:24:43.332246",
     "exception": false,
     "start_time": "2025-01-07T15:24:43.321170",
     "status": "completed"
    },
    "tags": []
   },
   "outputs": [],
   "source": [
    "def calculate_baas(ams_score, stereotype_count, antistereotype_count):\n",
    "    \"\"\"\n",
    "    Calculate the Bias-Aware Audio Score (BAAS).\n",
    "\n",
    "    Parameters:\n",
    "        ams_score (float): The Audio Modeling Score (0 to 100).\n",
    "        stereotype_count (int): Number of stereotypical outputs.\n",
    "        antistereotype_count (int): Number of anti-stereotypical outputs.\n",
    "\n",
    "    Returns:\n",
    "        float: The BAAS score (0 to 100).\n",
    "    \"\"\"\n",
    "    total_count = stereotype_count + antistereotype_count\n",
    "\n",
    "    if total_count == 0:\n",
    "        raise ValueError(\"Total count of stereotype and anti-stereotype samples cannot be zero.\")\n",
    "\n",
    "    stereotype_ratio = stereotype_count / total_count\n",
    "    sas_score = stereotype_ratio * 100  # Scale to percentage\n",
    "\n",
    "    penalty_factor = min(sas_score / 50, 2 - (sas_score / 50))\n",
    "\n",
    "    baas_score = ams_score * penalty_factor\n",
    "\n",
    "    return round(baas_score, 2)"
   ]
  },
  {
   "cell_type": "code",
   "execution_count": 14,
   "id": "08e9f44c",
   "metadata": {
    "execution": {
     "iopub.execute_input": "2025-01-07T15:24:43.341588Z",
     "iopub.status.busy": "2025-01-07T15:24:43.341356Z",
     "iopub.status.idle": "2025-01-07T15:24:43.344097Z",
     "shell.execute_reply": "2025-01-07T15:24:43.343510Z"
    },
    "papermill": {
     "duration": 0.008683,
     "end_time": "2025-01-07T15:24:43.345268",
     "exception": false,
     "start_time": "2025-01-07T15:24:43.336585",
     "status": "completed"
    },
    "tags": []
   },
   "outputs": [],
   "source": [
    "results = []"
   ]
  },
  {
   "cell_type": "code",
   "execution_count": null,
   "id": "25d151dd",
   "metadata": {
    "execution": {
     "iopub.execute_input": "2025-01-07T15:24:43.354535Z",
     "iopub.status.busy": "2025-01-07T15:24:43.354303Z",
     "iopub.status.idle": "2025-01-07T15:32:59.765266Z",
     "shell.execute_reply": "2025-01-07T15:32:59.764346Z"
    },
    "papermill": {
     "duration": 496.41705,
     "end_time": "2025-01-07T15:32:59.766636",
     "exception": false,
     "start_time": "2025-01-07T15:24:43.349586",
     "status": "completed"
    },
    "tags": []
   },
   "outputs": [],
   "source": [
    "for index, row in terms_df.iterrows():\n",
    "    term = row['role']\n",
    "    baas_score = calculate_baas(100, row['male_cnt'], row['female_cnt'])\n",
    "    to_append = [100, baas_score]\n",
    "    print(term, to_append)\n",
    "    results.append(to_append)\n",
    "    "
   ]
  },
  {
   "cell_type": "code",
   "execution_count": 16,
   "id": "ec47dec6",
   "metadata": {
    "execution": {
     "iopub.execute_input": "2025-01-07T15:32:59.805580Z",
     "iopub.status.busy": "2025-01-07T15:32:59.805320Z",
     "iopub.status.idle": "2025-01-07T15:32:59.809278Z",
     "shell.execute_reply": "2025-01-07T15:32:59.808695Z"
    },
    "papermill": {
     "duration": 0.024595,
     "end_time": "2025-01-07T15:32:59.810509",
     "exception": false,
     "start_time": "2025-01-07T15:32:59.785914",
     "status": "completed"
    },
    "tags": []
   },
   "outputs": [],
   "source": [
    "final_res_df = pd.DataFrame()"
   ]
  },
  {
   "cell_type": "code",
   "execution_count": 17,
   "id": "b3463f85",
   "metadata": {
    "execution": {
     "iopub.execute_input": "2025-01-07T15:32:59.848745Z",
     "iopub.status.busy": "2025-01-07T15:32:59.848528Z",
     "iopub.status.idle": "2025-01-07T15:32:59.854645Z",
     "shell.execute_reply": "2025-01-07T15:32:59.853996Z"
    },
    "papermill": {
     "duration": 0.026371,
     "end_time": "2025-01-07T15:32:59.855732",
     "exception": false,
     "start_time": "2025-01-07T15:32:59.829361",
     "status": "completed"
    },
    "tags": []
   },
   "outputs": [],
   "source": [
    "final_res_df['term'] = terms_df['role']\n",
    "final_res_df['audio_score'] = [x[0] for x in results]\n",
    "final_res_df['baas_score'] = [x[1] for x in results]"
   ]
  },
  {
   "cell_type": "code",
   "execution_count": 19,
   "id": "e0f477d6",
   "metadata": {
    "execution": {
     "iopub.execute_input": "2025-01-07T15:32:59.941989Z",
     "iopub.status.busy": "2025-01-07T15:32:59.941788Z",
     "iopub.status.idle": "2025-01-07T15:32:59.947384Z",
     "shell.execute_reply": "2025-01-07T15:32:59.946816Z"
    },
    "papermill": {
     "duration": 0.026027,
     "end_time": "2025-01-07T15:32:59.948561",
     "exception": false,
     "start_time": "2025-01-07T15:32:59.922534",
     "status": "completed"
    },
    "tags": []
   },
   "outputs": [],
   "source": [
    "final_res_df.to_csv('baas_results.csv', index=None)"
   ]
  }
 ],
 "metadata": {
  "kaggle": {
   "accelerator": "gpu",
   "dataSources": [
    {
     "datasetId": 6393097,
     "sourceId": 10325397,
     "sourceType": "datasetVersion"
    },
    {
     "datasetId": 6439952,
     "sourceId": 10394171,
     "sourceType": "datasetVersion"
    },
    {
     "datasetId": 6440060,
     "sourceId": 10394309,
     "sourceType": "datasetVersion"
    }
   ],
   "dockerImageVersionId": 30823,
   "isGpuEnabled": true,
   "isInternetEnabled": true,
   "language": "python",
   "sourceType": "notebook"
  },
  "kernelspec": {
   "display_name": "Python 3",
   "language": "python",
   "name": "python3"
  },
  "language_info": {
   "codemirror_mode": {
    "name": "ipython",
    "version": 3
   },
   "file_extension": ".py",
   "mimetype": "text/x-python",
   "name": "python",
   "nbconvert_exporter": "python",
   "pygments_lexer": "ipython3",
   "version": "3.10.12"
  },
  "papermill": {
   "default_parameters": {},
   "duration": 501.410735,
   "end_time": "2025-01-07T15:33:00.422829",
   "environment_variables": {},
   "exception": null,
   "input_path": "__notebook__.ipynb",
   "output_path": "__notebook__.ipynb",
   "parameters": {},
   "start_time": "2025-01-07T15:24:39.012094",
   "version": "2.6.0"
  }
 },
 "nbformat": 4,
 "nbformat_minor": 5
}
